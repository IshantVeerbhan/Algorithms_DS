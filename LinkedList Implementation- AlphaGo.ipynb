{
 "cells": [
  {
   "cell_type": "markdown",
   "id": "6d8f022a",
   "metadata": {},
   "source": [
    "Linked List Implementation"
   ]
  },
  {
   "cell_type": "code",
   "execution_count": 286,
   "id": "c1fb8e13",
   "metadata": {},
   "outputs": [],
   "source": [
    "class Node:\n",
    "    def __init__(self,data):\n",
    "        self.data = data\n",
    "        self.next = None\n",
    "        \n",
    "    def __str__(self):\n",
    "        return str(self.data)"
   ]
  },
  {
   "cell_type": "code",
   "execution_count": 287,
   "id": "66621ebe",
   "metadata": {},
   "outputs": [],
   "source": [
    "class LinkedList:\n",
    "    def __init__(self):\n",
    "        self.head = None\n",
    "        \n",
    "    def __str__(self):\n",
    "        return str(self.head.data)\n",
    "    \n",
    "    #add at the end of the list    \n",
    "    def add(self,newdata):\n",
    "        newNode = Node(newdata)\n",
    "        if self.head==None:\n",
    "            self.head = newNode\n",
    "            return\n",
    "        else:\n",
    "            temp=self.head\n",
    "            while(temp.next!=None):\n",
    "                temp=temp.next\n",
    "            temp.next=newNode \n",
    "            \n",
    "    #print the data at index         \n",
    "    def at(self, index):\n",
    "        temp=self.head\n",
    "        for i in range(0,index):\n",
    "            if(temp.next==None):\n",
    "                return(\"Out of range\")\n",
    "            else:   \n",
    "                temp=temp.next   \n",
    "        return(temp.data)\n",
    "    \n",
    "    #insert at index \n",
    "    def insert(self, index, newdata):\n",
    "        newNode = Node(newdata)\n",
    "        if(index==0):\n",
    "            print(\"Changing Head\")\n",
    "            newNode.next=self.head\n",
    "            self.head=newNode\n",
    "        \n",
    "        else:\n",
    "            temp=self.head\n",
    "            for i in range(0,index-1):\n",
    "                temp=temp.next     \n",
    "            newNode.next=temp.next\n",
    "            temp.next=newNode\n",
    "    \n",
    "     #remove at specific index \n",
    "    def remove(self, index):\n",
    "        if(index==0):\n",
    "            print(\"Removing head\")\n",
    "            self.head=self.head.next\n",
    "        else:    \n",
    "            temp=self.head\n",
    "            for i in range(0,index-1):\n",
    "                temp=temp.next \n",
    "                x=temp.next\n",
    "                temp.next=x.next\n",
    "                \n",
    "    #return length of list           \n",
    "    def __len__(self):\n",
    "        temp=self.head\n",
    "        count=0\n",
    "        while(temp!=None):\n",
    "            temp=temp.next\n",
    "            count+=1\n",
    "        return(count)    \n",
    "        \n",
    "        \n",
    "        \n",
    "            \n",
    "            \n",
    "        "
   ]
  },
  {
   "cell_type": "code",
   "execution_count": 288,
   "id": "4dadb77b",
   "metadata": {},
   "outputs": [],
   "source": [
    "ll = LinkedList()"
   ]
  },
  {
   "cell_type": "code",
   "execution_count": 289,
   "id": "f321b13e",
   "metadata": {},
   "outputs": [],
   "source": [
    "ll.add(\"My\")\n",
    "ll.add(\"name\")\n",
    "ll.add(\"is\")\n",
    "ll.add(\"John\")\n",
    "ll.add(\"Doe\")"
   ]
  },
  {
   "cell_type": "code",
   "execution_count": 290,
   "id": "2d1856dd",
   "metadata": {},
   "outputs": [
    {
     "name": "stdout",
     "output_type": "stream",
     "text": [
      "My\n",
      "name\n",
      "is\n",
      "John\n",
      "Doe\n"
     ]
    }
   ],
   "source": [
    "val = ll.head\n",
    "while (val != None):\n",
    "    print(val.data)\n",
    "    val=val.next"
   ]
  },
  {
   "cell_type": "code",
   "execution_count": 291,
   "id": "d5f4d802",
   "metadata": {},
   "outputs": [
    {
     "name": "stdout",
     "output_type": "stream",
     "text": [
      "Changing Head\n"
     ]
    }
   ],
   "source": [
    "ll.insert(0,\"yolo\")"
   ]
  },
  {
   "cell_type": "code",
   "execution_count": 292,
   "id": "1c5ceadf",
   "metadata": {},
   "outputs": [
    {
     "name": "stdout",
     "output_type": "stream",
     "text": [
      "yolo\n",
      "My\n",
      "name\n",
      "is\n",
      "John\n",
      "Doe\n"
     ]
    }
   ],
   "source": [
    "val = ll.head\n",
    "while (val != None):\n",
    "    print(val.data)\n",
    "    val=val.next"
   ]
  },
  {
   "cell_type": "code",
   "execution_count": 255,
   "id": "d9f0baca",
   "metadata": {},
   "outputs": [
    {
     "data": {
      "text/plain": [
       "5"
      ]
     },
     "execution_count": 255,
     "metadata": {},
     "output_type": "execute_result"
    }
   ],
   "source": [
    "len(ll)"
   ]
  },
  {
   "cell_type": "code",
   "execution_count": null,
   "id": "b341fb30",
   "metadata": {},
   "outputs": [],
   "source": []
  }
 ],
 "metadata": {
  "kernelspec": {
   "display_name": "Python 3",
   "language": "python",
   "name": "python3"
  },
  "language_info": {
   "codemirror_mode": {
    "name": "ipython",
    "version": 3
   },
   "file_extension": ".py",
   "mimetype": "text/x-python",
   "name": "python",
   "nbconvert_exporter": "python",
   "pygments_lexer": "ipython3",
   "version": "3.8.8"
  }
 },
 "nbformat": 4,
 "nbformat_minor": 5
}
