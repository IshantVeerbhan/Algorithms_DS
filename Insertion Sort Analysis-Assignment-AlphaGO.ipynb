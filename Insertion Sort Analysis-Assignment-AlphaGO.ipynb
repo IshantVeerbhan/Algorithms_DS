{
 "cells": [
  {
   "cell_type": "code",
   "execution_count": 55,
   "id": "832cc4a3",
   "metadata": {},
   "outputs": [],
   "source": [
    "import matplotlib.pyplot as plt\n",
    "import random\n",
    "from time import perf_counter_ns\n",
    "timeBC=[]\n",
    "timeWC=[]\n",
    "timeAC=[]\n",
    "size=[3200,6400,12800,25600,51200]"
   ]
  },
  {
   "cell_type": "code",
   "execution_count": 56,
   "id": "559af948",
   "metadata": {},
   "outputs": [],
   "source": [
    "def insertion_sort(A):\n",
    " \n",
    "    for i in range(1,len(A)):\n",
    "        pos = i-1   \n",
    "        cur = A[i]\n",
    "        while (A[pos] > cur and pos >=0):\n",
    "            A[pos+1]=A[pos]\n",
    "            pos = pos-1\n",
    "        A[pos+1]=cur    \n",
    "        i = i+1"
   ]
  },
  {
   "cell_type": "code",
   "execution_count": 57,
   "id": "734930dc",
   "metadata": {},
   "outputs": [],
   "source": [
    " #avg case   \n",
    "for i in size:\n",
    "    l = list(range(i))\n",
    "    random.shuffle(l)\n",
    "    start =  perf_counter_ns()\n",
    "    insertion_sort(l)\n",
    "    end = perf_counter_ns()\n",
    "    timeAC.append((end-start)*pow(10,-9))"
   ]
  },
  {
   "cell_type": "code",
   "execution_count": 58,
   "id": "ef3af568",
   "metadata": {},
   "outputs": [],
   "source": [
    "#Best Case\n",
    "for i in size:\n",
    "    l = list(range(i))\n",
    "    start =  perf_counter_ns()\n",
    "    insertion_sort(l)\n",
    "    end = perf_counter_ns()\n",
    "    timeBC.append((end-start)*pow(10,-9))"
   ]
  },
  {
   "cell_type": "code",
   "execution_count": 59,
   "id": "5b37db58",
   "metadata": {},
   "outputs": [],
   "source": [
    "#Worst case List in decreasing order\n",
    "for i in size:\n",
    "    l = list(range(i,0,-1))\n",
    "    start =  perf_counter_ns()\n",
    "    insertion_sort(l)\n",
    "    end = perf_counter_ns()\n",
    "    timeWC.append((end-start)*pow(10,-9))"
   ]
  },
  {
   "cell_type": "code",
   "execution_count": 68,
   "id": "0fdbf847",
   "metadata": {},
   "outputs": [
    {
     "name": "stdout",
     "output_type": "stream",
     "text": [
      "[0.000768193, 0.001582491, 0.0029768290000000003, 0.004947904, 0.010802056]\n",
      "[0.392594323, 1.623455692, 6.164285621, 24.537529911, 99.65658863300001]\n",
      "[0.7464689720000001, 3.059647451, 12.008046915000001, 48.425162150000006, 200.48482371400002]\n"
     ]
    },
    {
     "data": {
      "image/png": "[encoded data removed]",
      "text/plain": [
       "<Figure size 432x288 with 1 Axes>"
      ]
     },
     "metadata": {
      "needs_background": "light"
     },
     "output_type": "display_data"
    }
   ],
   "source": [
    "\n",
    "print(timeBC)\n",
    "print(timeAC)\n",
    "print(timeWC)\n",
    "plt.plot(size,timeBC,marker='o')\n",
    "plt.plot(size,timeAC,marker='s')\n",
    "plt.plot(size,timeWC,marker='^')\n",
    "\n",
    "plt.xlabel(\"List Size\")\n",
    "plt.ylabel(\"Time in Seconds\")\n",
    "plt.show()"
   ]
  },
  {
   "cell_type": "code",
   "execution_count": null,
   "id": "e190275d",
   "metadata": {},
   "outputs": [],
   "source": []
  }
 ],
 "metadata": {
  "kernelspec": {
   "display_name": "Python 3",
   "language": "python",
   "name": "python3"
  },
  "language_info": {
   "codemirror_mode": {
    "name": "ipython",
    "version": 3
   },
   "file_extension": ".py",
   "mimetype": "text/x-python",
   "name": "python",
   "nbconvert_exporter": "python",
   "pygments_lexer": "ipython3",
   "version": "3.8.8"
  }
 },
 "nbformat": 4,
 "nbformat_minor": 5
}
