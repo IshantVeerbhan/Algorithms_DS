{
 "cells": [
  {
   "cell_type": "code",
   "execution_count": 52,
   "id": "e65154d2",
   "metadata": {},
   "outputs": [
    {
     "name": "stdout",
     "output_type": "stream",
     "text": [
      "Choose action:\n",
      "1.Add Element(PUSH)\n",
      "2.Delete Element(POP\n",
      "3.View Elements\n",
      "4.Exit\n"
     ]
    }
   ],
   "source": [
    "top = None\n",
    "stk = []\n",
    "\n",
    "print(\"Choose action:\\n1.Add Element(PUSH)\\n2.Delete Element(POP\\n3.View Elements\\n4.Exit\")\n"
   ]
  },
  {
   "cell_type": "code",
   "execution_count": 53,
   "id": "5c93c14f",
   "metadata": {},
   "outputs": [
    {
     "name": "stdout",
     "output_type": "stream",
     "text": [
      "Your Choice: 4\n"
     ]
    }
   ],
   "source": [
    "while True:\n",
    "    ch = int(input(\"Your Choice: \"))\n",
    "    if ch==1:\n",
    "        num = int(input(\"Enter Number to PUSH:\"))\n",
    "        stk.append(num)          \n",
    "        if top == None:\n",
    "                  top=0\n",
    "        else:\n",
    "                  top = len(stk)-1\n",
    "    elif ch == 2:\n",
    "                  print(\"Element popped:\",stk[top])\n",
    "                  stk.pop()\n",
    "                  top = len(stk)-1\n",
    "    elif ch == 3:\n",
    "        for i in range(top,-1,-1):\n",
    "            print(stk[i])\n",
    "    else:\n",
    "        break\n",
    "                  \n"
   ]
  },
  {
   "cell_type": "code",
   "execution_count": 63,
   "id": "410ca5e3",
   "metadata": {},
   "outputs": [
    {
     "name": "stdout",
     "output_type": "stream",
     "text": [
      "Choose action:\n",
      "1.Add Element\n",
      "2.Delete Element\n",
      "3.View Elements\n",
      "4.Exit\n"
     ]
    }
   ],
   "source": [
    "q=[]\n",
    "ed=None\n",
    "print(\"Choose action:\\n1.Add Element\\n2.Delete Element\\n3.View Elements\\n4.Exit\")\n",
    "\n",
    "               "
   ]
  },
  {
   "cell_type": "code",
   "execution_count": 64,
   "id": "fae89e2a",
   "metadata": {},
   "outputs": [
    {
     "name": "stdout",
     "output_type": "stream",
     "text": [
      "Your Choice: 1\n",
      "Enter Number to add:1\n",
      "Your Choice: 1\n",
      "Enter Number to add:2\n",
      "Your Choice: 1\n",
      "Enter Number to add:3\n",
      "Your Choice: 1\n",
      "Enter Number to add:4\n",
      "Your Choice: 1\n",
      "Enter Number to add:5\n",
      "Your Choice: 2\n",
      "Element popped: 1\n",
      "Your Choice: 3\n",
      "2\n",
      "3\n",
      "4\n",
      "5\n",
      "Your Choice: 4\n"
     ]
    }
   ],
   "source": [
    "while True:\n",
    "    ch = int(input(\"Your Choice: \"))\n",
    "    if ch==1:\n",
    "        num = int(input(\"Enter Number to add:\"))\n",
    "        q.append(num)          \n",
    "        if ed == None:\n",
    "            ed = 0\n",
    "        else:\n",
    "            ed = len(q)-1\n",
    "         \n",
    "    elif ch == 2:\n",
    "                  print(\"Element popped:\",q[0])\n",
    "                  q.pop(0)\n",
    "                  ed = len(q)-1\n",
    "                  \n",
    "                  \n",
    "    elif ch == 3:\n",
    "        for i in range(0,ed+1):\n",
    "            print(q[i])\n",
    "    else:\n",
    "        break"
   ]
  }
 ],
 "metadata": {
  "kernelspec": {
   "display_name": "Python 3",
   "language": "python",
   "name": "python3"
  },
  "language_info": {
   "codemirror_mode": {
    "name": "ipython",
    "version": 3
   },
   "file_extension": ".py",
   "mimetype": "text/x-python",
   "name": "python",
   "nbconvert_exporter": "python",
   "pygments_lexer": "ipython3",
   "version": "3.8.8"
  }
 },
 "nbformat": 4,
 "nbformat_minor": 5
}
