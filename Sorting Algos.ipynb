{
 "cells": [
  {
   "cell_type": "code",
   "execution_count": 98,
   "id": "7283aed8",
   "metadata": {},
   "outputs": [
    {
     "name": "stdout",
     "output_type": "stream",
     "text": [
      "Enter elements of array \n"
     ]
    }
   ],
   "source": [
    "arr = list(map(int,input(\"Enter elements of array \").split()))"
   ]
  },
  {
   "cell_type": "code",
   "execution_count": 16,
   "id": "1d56bfeb",
   "metadata": {},
   "outputs": [],
   "source": [
    "\n",
    "def swap(x,y):\n",
    "    x=x+y\n",
    "    y=x-y\n",
    "    x=x-y\n",
    "    return x,y"
   ]
  },
  {
   "cell_type": "markdown",
   "id": "4c905185",
   "metadata": {},
   "source": [
    "### Bubble Sort: Check every pair from the beginning and swap accordingly. Do this N-1 times "
   ]
  },
  {
   "cell_type": "code",
   "execution_count": 137,
   "id": "57a4c328",
   "metadata": {},
   "outputs": [
    {
     "name": "stdout",
     "output_type": "stream",
     "text": [
      "[1, 2, 3, 4, 5, 6, 7, 8, 9]\n"
     ]
    }
   ],
   "source": [
    "arrB =[9,8,7,6,5,4,3,2,1]\n",
    "def bubble_sort(A):\n",
    "    for i in range(0,len(A)-1):\n",
    "        swapChk=0\n",
    "        for j in range(0,len(A)-1):\n",
    "            if A[j] > A[j+1]:\n",
    "                A[j],A[j+1] = swap(A[j],A[j+1])\n",
    "                swapChk=1\n",
    "        if swapChk==0:\n",
    "            break\n",
    "    return A\n",
    "\n",
    "print (bubble_sort(arrB))           "
   ]
  },
  {
   "cell_type": "markdown",
   "id": "66040971",
   "metadata": {},
   "source": [
    "### Insertion Sort: Start from position i=2, compare with all elements before i and place in the position."
   ]
  },
  {
   "cell_type": "code",
   "execution_count": 138,
   "id": "6dcdff36",
   "metadata": {},
   "outputs": [
    {
     "name": "stdout",
     "output_type": "stream",
     "text": [
      "[0, 1, 2, 3, 4, 5, 6, 7, 8, 9]\n"
     ]
    }
   ],
   "source": [
    "def insertion_sort(A):\n",
    " \n",
    "    for i in range(1,len(A)):\n",
    "        pos = i-1   \n",
    "        cur = A[i]\n",
    "        while (A[pos] > cur and pos >=0):\n",
    "            A[pos+1]=A[pos]\n",
    "            A[pos],A[pos+1] = swap(A[pos],A[pos+1])\n",
    "            pos = pos-1\n",
    "        A[pos+1]=cur    \n",
    "        i = i+1\n",
    "    return A\n",
    "\n",
    "print (insertion_sort(arr))"
   ]
  },
  {
   "cell_type": "markdown",
   "id": "34c22b5a",
   "metadata": {},
   "source": [
    "Selection Sort : Select the least no and put in first position. Now select the least number from the remaining and put in 2nd position repeat this N-1 times."
   ]
  },
  {
   "cell_type": "code",
   "execution_count": 133,
   "id": "d795e3c3",
   "metadata": {},
   "outputs": [
    {
     "name": "stdout",
     "output_type": "stream",
     "text": [
      "[1, 2, 3, 4, 5, 6, 7, 8, 9]\n"
     ]
    }
   ],
   "source": [
    "arrC =[9,8,7,6,5,4,3,2,1]\n",
    "def selSort(A):\n",
    "    for i in range(0,len(A)-1):\n",
    "        min_i=i\n",
    "        for j in range(i,len(A)):\n",
    "            if(A[j]<A[min_i]):\n",
    "                min_i=j\n",
    "        A[i],A[min_i] = swap(A[i],A[min_i])     \n",
    "    return A\n",
    "print (selSort(arrC))                 \n",
    "            "
   ]
  },
  {
   "cell_type": "markdown",
   "id": "7a1f3cde",
   "metadata": {},
   "source": [
    "### MERGE SORT"
   ]
  },
  {
   "cell_type": "code",
   "execution_count": 12,
   "id": "edef5cb5",
   "metadata": {},
   "outputs": [],
   "source": [
    "mlist = list(range(10))\n",
    "from time import perf_counter_ns\n",
    "import random\n",
    "random.shuffle(mlist)"
   ]
  },
  {
   "cell_type": "code",
   "execution_count": 13,
   "id": "44c320e7",
   "metadata": {},
   "outputs": [],
   "source": [
    "def Merge(l,r,A):\n",
    "    i=j=k=0\n",
    "    while (i<len(l) and j <len(r)):\n",
    "        if(l[i]<=r[j]):\n",
    "            A[k]=l[i]\n",
    "            i=i+1\n",
    "        else:\n",
    "            A[k]=r[j]\n",
    "            j+=1\n",
    "        k+=1    \n",
    "        \n",
    "    while(i<len(l)):\n",
    "        A[k]=l[i]\n",
    "        i+=1\n",
    "        k+=1\n",
    "    while(j<len(r)):\n",
    "        A[k]=r[j]\n",
    "        j+=1\n",
    "        k+=1 \n",
    "    \n",
    "def Mergesort(A):\n",
    "    if (len(A)<2):\n",
    "        return\n",
    "    mid = int(len(A)/2)\n",
    "    lA=A[:mid]\n",
    "    rA=A[mid:]\n",
    "    Mergesort(lA)\n",
    "    Mergesort(rA)\n",
    "    Merge(lA,rA,A)\n"
   ]
  },
  {
   "cell_type": "code",
   "execution_count": 9,
   "id": "34a0ca49",
   "metadata": {},
   "outputs": [
    {
     "name": "stdout",
     "output_type": "stream",
     "text": [
      "6.894099551\n"
     ]
    }
   ],
   "source": [
    "start = perf_counter_ns()\n",
    "Mergesort(mlist)\n",
    "end = perf_counter_ns()\n",
    "print((end-start)*pow(10,-9))"
   ]
  },
  {
   "cell_type": "markdown",
   "id": "67d8e770",
   "metadata": {},
   "source": [
    "### Quick Sort"
   ]
  },
  {
   "cell_type": "code",
   "execution_count": 104,
   "id": "12fd3adc",
   "metadata": {},
   "outputs": [
    {
     "data": {
      "text/plain": [
       "[4, 7, 3, 1, 8, 9, 2, 5, 0, 6]"
      ]
     },
     "execution_count": 104,
     "metadata": {},
     "output_type": "execute_result"
    }
   ],
   "source": [
    "A = list(range(10))\n",
    "from time import perf_counter_ns\n",
    "import random\n",
    "random.shuffle(A)\n",
    "A\n"
   ]
  },
  {
   "cell_type": "code",
   "execution_count": 105,
   "id": "6783787e",
   "metadata": {},
   "outputs": [
    {
     "data": {
      "text/plain": [
       "[0, 1, 2, 3, 4, 5, 6, 7, 8, 9]"
      ]
     },
     "execution_count": 105,
     "metadata": {},
     "output_type": "execute_result"
    }
   ],
   "source": [
    "def part(A,st,end):\n",
    "    pi=st\n",
    "    pivot=A[end]\n",
    "    for i in range(st,end):\n",
    "        if (A[i]<=pivot):\n",
    "            temp=A[i]\n",
    "            A[i]=A[pi]\n",
    "            A[pi]=temp\n",
    "            pi=pi+1\n",
    "    temp=A[pi]\n",
    "    A[pi]=A[end]\n",
    "    A[end]=temp\n",
    "    return pi\n",
    "\n",
    "def Quicksort(A,st,end):\n",
    "    if st < end:\n",
    "        pindex=part(A,st,end)\n",
    "        Quicksort(A,st,pindex-1)\n",
    "        Quicksort(A,pindex+1,end)\n",
    "\n",
    "\n",
    "Quicksort(A,0,int(len(A)-1))\n",
    "A"
   ]
  },
  {
   "cell_type": "code",
   "execution_count": null,
   "id": "c6413440",
   "metadata": {},
   "outputs": [],
   "source": []
  },
  {
   "cell_type": "code",
   "execution_count": null,
   "id": "0be67dfe",
   "metadata": {},
   "outputs": [],
   "source": []
  },
  {
   "cell_type": "code",
   "execution_count": null,
   "id": "f0b6c599",
   "metadata": {},
   "outputs": [],
   "source": []
  }
 ],
 "metadata": {
  "kernelspec": {
   "display_name": "Python 3",
   "language": "python",
   "name": "python3"
  },
  "language_info": {
   "codemirror_mode": {
    "name": "ipython",
    "version": 3
   },
   "file_extension": ".py",
   "mimetype": "text/x-python",
   "name": "python",
   "nbconvert_exporter": "python",
   "pygments_lexer": "ipython3",
   "version": "3.8.8"
  }
 },
 "nbformat": 4,
 "nbformat_minor": 5
}
